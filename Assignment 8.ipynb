{
 "cells": [
  {
   "cell_type": "code",
   "execution_count": null,
   "id": "611421e9",
   "metadata": {},
   "outputs": [],
   "source": [
    "1. Is the Python Standard Library included with PyInputPlus?\n",
    "\n",
    "PyInputPlus is not a part of the Python Standard Library, we must install it separately using Pip.\n"
   ]
  },
  {
   "cell_type": "code",
   "execution_count": null,
   "id": "3aaa6f08",
   "metadata": {},
   "outputs": [],
   "source": [
    "2. Why is PyInputPlus commonly imported with import pyinputplus as pypi?\n",
    "\n",
    "You can import the module with import pyinputplus as pyip so that you can enter a shorter name when calling \n",
    "the module's functions. PyInputPlus hasfunctions for entering a variety of input, including strings, numbers, dates, \n",
    "yes/no, True/False, emails, and files.\n"
   ]
  },
  {
   "cell_type": "code",
   "execution_count": null,
   "id": "9a3ebe2e",
   "metadata": {},
   "outputs": [],
   "source": [
    "3. How do you distinguish between inputInt() and inputFloat()?\n",
    "\n",
    "inputInt() : Accepts an integer value. This also takes additional parameters 'min', 'max', 'greaterThan' and 'lessThan' \n",
    "for bounds. Returns an int. inputFloat() : Accepts a floating-point numeric value.\n",
    "    "
   ]
  },
  {
   "cell_type": "code",
   "execution_count": null,
   "id": "5a64cd6d",
   "metadata": {},
   "outputs": [],
   "source": [
    "4. Using PyInputPlus, how do you ensure that the user enters a whole number between 0 and 99?\n",
    "\n",
    "By using pyip. inputint(min=0, max=99).\n"
   ]
  },
  {
   "cell_type": "code",
   "execution_count": null,
   "id": "b2ef054e",
   "metadata": {},
   "outputs": [],
   "source": [
    "5. What is transferred to the keyword arguments allowRegexes and blockRegexes?\n",
    "\n",
    "You can also use regular expressions to specify whether an input is allowed or not. The allowRegexes and blockRegexes \n",
    "keyword arguments take a list of regular expression strings to determine what the PyInputPlus function will accept or \n",
    "reject as valid input.\n"
   ]
  },
  {
   "cell_type": "code",
   "execution_count": null,
   "id": "13f02db2",
   "metadata": {},
   "outputs": [],
   "source": [
    "6. If a blank input is entered three times, what does inputStr(limit=3) do?\n",
    "\n",
    "The function will raise RetryLimitException.\n"
   ]
  },
  {
   "cell_type": "code",
   "execution_count": null,
   "id": "c792c2e3",
   "metadata": {},
   "outputs": [],
   "source": [
    "7. If blank input is entered three times, what does inputStr(limit=3, default='hello') do?\n",
    "\n",
    "The function returns the value 'hello'\n"
   ]
  }
 ],
 "metadata": {
  "kernelspec": {
   "display_name": "Python 3",
   "language": "python",
   "name": "python3"
  },
  "language_info": {
   "codemirror_mode": {
    "name": "ipython",
    "version": 3
   },
   "file_extension": ".py",
   "mimetype": "text/x-python",
   "name": "python",
   "nbconvert_exporter": "python",
   "pygments_lexer": "ipython3",
   "version": "3.8.8"
  }
 },
 "nbformat": 4,
 "nbformat_minor": 5
}
